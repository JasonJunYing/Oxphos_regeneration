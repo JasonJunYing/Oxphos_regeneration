{
 "cells": [
  {
   "cell_type": "markdown",
   "id": "337578d0-1f3c-4e5d-8ba3-8fef489e5f96",
   "metadata": {},
   "source": [
    "# Troppo"
   ]
  },
  {
   "cell_type": "code",
   "execution_count": 1,
   "id": "27510835-7466-4997-af35-193a065974d4",
   "metadata": {},
   "outputs": [
    {
     "name": "stderr",
     "output_type": "stream",
     "text": [
      "/project/Fish_heart_regeneration/jying/miniconda3/envs/troppo/lib/python3.10/site-packages/cobamp/wrappers/external_wrappers.py:9: UserWarning: \n",
      "The wrappers.external_wrappers module will be deprecated in a future release in favour of the wrappers module. \n",
      "    Available ModelObjectReader classes can still be loaded using cobamp.wrappers.<class>. An appropriate model \n",
      "    reader can also be created using the get_model_reader function on cobamp.wrappers\n",
      "  warnings.warn(\n"
     ]
    }
   ],
   "source": [
    "import pandas as pd\n",
    "import numpy as np\n",
    "import cobra\n",
    "import re\n",
    "import pickle\n",
    "import dill\n",
    "import seaborn as sns\n",
    "\n",
    "from troppo.omics.readers.generic import TabularReader\n",
    "from troppo.methods_wrappers import ModelBasedWrapper, ReconstructionWrapper\n",
    "from troppo.omics.integration import ContinuousScoreIntegrationStrategy\n",
    "from troppo.methods.reconstruction.gimme import GIMME, GIMMEProperties"
   ]
  },
  {
   "cell_type": "code",
   "execution_count": 2,
   "id": "fe0f09de-3a28-4cff-aee6-cb99136c9c95",
   "metadata": {},
   "outputs": [],
   "source": [
    "# define the parsing rules for the GPRs that will be used later on\n",
    "patt = re.compile('__COBAMPGPRDOT__[0-9]{1}')\n",
    "replace_alt_transcripts = lambda x: patt.sub('', x)"
   ]
  },
  {
   "cell_type": "code",
   "execution_count": 3,
   "id": "e0fc4a22-3f43-48e3-a68c-3c916ee16f22",
   "metadata": {
    "scrolled": true
   },
   "outputs": [
    {
     "name": "stderr",
     "output_type": "stream",
     "text": [
      "https://identifiers.org/taxonomy/ does not conform to 'http(s)://identifiers.org/collection/id' or'http(s)://identifiers.org/COLLECTION:id\n"
     ]
    }
   ],
   "source": [
    "# load model\n",
    "import lxml\n",
    "model = cobra.io.read_sbml_model('model/Zebrafish-GEM.xml')"
   ]
  },
  {
   "cell_type": "code",
   "execution_count": 4,
   "id": "18f4444f-b4cc-46ec-8e45-032ba1c5d631",
   "metadata": {},
   "outputs": [],
   "source": [
    "# Save the object to a file\n",
    "# with open('ZebrafishGEM.pkl', 'wb') as f:\n",
    "#     pickle.dump(model, f)"
   ]
  },
  {
   "cell_type": "code",
   "execution_count": 5,
   "id": "87ea436d-a26a-499b-9a1f-0c2678679008",
   "metadata": {
    "scrolled": true
   },
   "outputs": [],
   "source": [
    "# with open('ZebrafishGEM.pkl', 'rb') as f:\n",
    "#     model = pickle.load(f)"
   ]
  },
  {
   "cell_type": "code",
   "execution_count": 4,
   "id": "80d5a7d1-ced8-4ff0-b7d4-e234918465f4",
   "metadata": {},
   "outputs": [
    {
     "data": {
      "text/html": [
       "\n",
       "        <table>\n",
       "            <tr>\n",
       "                <td><strong>Name</strong></td>\n",
       "                <td>ZebrafishGEM</td>\n",
       "            </tr><tr>\n",
       "                <td><strong>Memory address</strong></td>\n",
       "                <td>7fd991857820</td>\n",
       "            </tr><tr>\n",
       "                <td><strong>Number of metabolites</strong></td>\n",
       "                <td>8439</td>\n",
       "            </tr><tr>\n",
       "                <td><strong>Number of reactions</strong></td>\n",
       "                <td>12809</td>\n",
       "            </tr><tr>\n",
       "                <td><strong>Number of genes</strong></td>\n",
       "                <td>2705</td>\n",
       "            </tr><tr>\n",
       "                <td><strong>Number of groups</strong></td>\n",
       "                <td>152</td>\n",
       "            </tr><tr>\n",
       "                <td><strong>Objective expression</strong></td>\n",
       "                <td>1.0*MAR00021 - 1.0*MAR00021_reverse_97974</td>\n",
       "            </tr><tr>\n",
       "                <td><strong>Compartments</strong></td>\n",
       "                <td>Cytosol, Extracellular, Lysosome, Endoplasmic reticulum, Mitochondria, Peroxisome, Golgi apparatus, Nucleus, Inner mitochondria</td>\n",
       "            </tr>\n",
       "          </table>"
      ],
      "text/plain": [
       "<Model ZebrafishGEM at 0x7fd991857820>"
      ]
     },
     "execution_count": 4,
     "metadata": {},
     "output_type": "execute_result"
    }
   ],
   "source": [
    "model"
   ]
  },
  {
   "cell_type": "code",
   "execution_count": 5,
   "id": "409c99d3-55ab-4ac1-bd6b-fb7daf7fa8b2",
   "metadata": {},
   "outputs": [
    {
     "data": {
      "text/plain": [
       "[<Gene LOC101886429 at 0x7fd9909d2c80>,\n",
       " <Gene aaas at 0x7fd9909d2b30>,\n",
       " <Gene aacs at 0x7fd9909d2ad0>,\n",
       " <Gene aadac at 0x7fd9909d2a10>,\n",
       " <Gene aadat at 0x7fd9909d2b60>]"
      ]
     },
     "execution_count": 5,
     "metadata": {},
     "output_type": "execute_result"
    }
   ],
   "source": [
    "model.genes[0:5] # model genes in symbol"
   ]
  },
  {
   "cell_type": "markdown",
   "id": "32adf096-54cc-4c38-8ef9-789f7adbbaab",
   "metadata": {},
   "source": [
    "## Use Raw Counts"
   ]
  },
  {
   "cell_type": "code",
   "execution_count": 9,
   "id": "52a35448-31f6-43fb-bbf3-b7759cc0bbba",
   "metadata": {},
   "outputs": [],
   "source": [
    "# load data\n",
    "expression_data = pd.read_table('fish_strains_project2_raw_counts.txt', index_col=1)\n",
    "expression_data = expression_data.drop(columns=['id','description','Unnamed: 64'])"
   ]
  },
  {
   "cell_type": "code",
   "execution_count": 10,
   "id": "cbbb87c5-4573-4499-a27b-5220d1882785",
   "metadata": {},
   "outputs": [
    {
     "data": {
      "text/html": [
       "<div>\n",
       "<style scoped>\n",
       "    .dataframe tbody tr th:only-of-type {\n",
       "        vertical-align: middle;\n",
       "    }\n",
       "\n",
       "    .dataframe tbody tr th {\n",
       "        vertical-align: top;\n",
       "    }\n",
       "\n",
       "    .dataframe thead th {\n",
       "        text-align: right;\n",
       "    }\n",
       "</style>\n",
       "<table border=\"1\" class=\"dataframe\">\n",
       "  <thead>\n",
       "    <tr style=\"text-align: right;\">\n",
       "      <th></th>\n",
       "      <th>AB_1Dpci_21</th>\n",
       "      <th>AB_1Dpci_22</th>\n",
       "      <th>AB_1Dpci_23</th>\n",
       "      <th>AB_7Dpci_24</th>\n",
       "      <th>AB_7Dpci_27</th>\n",
       "      <th>AB_7Dpci_5</th>\n",
       "      <th>AB_unop_4</th>\n",
       "      <th>AB_unop_6</th>\n",
       "      <th>AB_unop_7</th>\n",
       "      <th>KCL_1Dpci_62</th>\n",
       "      <th>...</th>\n",
       "      <th>TU_unop_3</th>\n",
       "      <th>WIK_1Dpci_55</th>\n",
       "      <th>WIK_1Dpci_56</th>\n",
       "      <th>WIK_1Dpci_57</th>\n",
       "      <th>WIK_7Dpci_58</th>\n",
       "      <th>WIK_7Dpci_60</th>\n",
       "      <th>WIK_7Dpci_61</th>\n",
       "      <th>WIK_unop_1</th>\n",
       "      <th>WIK_unop_2</th>\n",
       "      <th>WIK_unop_3</th>\n",
       "    </tr>\n",
       "    <tr>\n",
       "      <th>symbol</th>\n",
       "      <th></th>\n",
       "      <th></th>\n",
       "      <th></th>\n",
       "      <th></th>\n",
       "      <th></th>\n",
       "      <th></th>\n",
       "      <th></th>\n",
       "      <th></th>\n",
       "      <th></th>\n",
       "      <th></th>\n",
       "      <th></th>\n",
       "      <th></th>\n",
       "      <th></th>\n",
       "      <th></th>\n",
       "      <th></th>\n",
       "      <th></th>\n",
       "      <th></th>\n",
       "      <th></th>\n",
       "      <th></th>\n",
       "      <th></th>\n",
       "      <th></th>\n",
       "    </tr>\n",
       "  </thead>\n",
       "  <tbody>\n",
       "    <tr>\n",
       "      <th>CR383668.1</th>\n",
       "      <td>0</td>\n",
       "      <td>0</td>\n",
       "      <td>0</td>\n",
       "      <td>0</td>\n",
       "      <td>0</td>\n",
       "      <td>0</td>\n",
       "      <td>0</td>\n",
       "      <td>0</td>\n",
       "      <td>0</td>\n",
       "      <td>0</td>\n",
       "      <td>...</td>\n",
       "      <td>0</td>\n",
       "      <td>0</td>\n",
       "      <td>0</td>\n",
       "      <td>0</td>\n",
       "      <td>0</td>\n",
       "      <td>0</td>\n",
       "      <td>0</td>\n",
       "      <td>0</td>\n",
       "      <td>0</td>\n",
       "      <td>0</td>\n",
       "    </tr>\n",
       "    <tr>\n",
       "      <th>fgfr1op2</th>\n",
       "      <td>39</td>\n",
       "      <td>49</td>\n",
       "      <td>22</td>\n",
       "      <td>21</td>\n",
       "      <td>57</td>\n",
       "      <td>45</td>\n",
       "      <td>32</td>\n",
       "      <td>30</td>\n",
       "      <td>23</td>\n",
       "      <td>28</td>\n",
       "      <td>...</td>\n",
       "      <td>32</td>\n",
       "      <td>53</td>\n",
       "      <td>25</td>\n",
       "      <td>55</td>\n",
       "      <td>16</td>\n",
       "      <td>24</td>\n",
       "      <td>56</td>\n",
       "      <td>36</td>\n",
       "      <td>28</td>\n",
       "      <td>32</td>\n",
       "    </tr>\n",
       "    <tr>\n",
       "      <th>AL845295.2</th>\n",
       "      <td>0</td>\n",
       "      <td>0</td>\n",
       "      <td>0</td>\n",
       "      <td>0</td>\n",
       "      <td>0</td>\n",
       "      <td>0</td>\n",
       "      <td>0</td>\n",
       "      <td>0</td>\n",
       "      <td>0</td>\n",
       "      <td>0</td>\n",
       "      <td>...</td>\n",
       "      <td>0</td>\n",
       "      <td>0</td>\n",
       "      <td>0</td>\n",
       "      <td>0</td>\n",
       "      <td>0</td>\n",
       "      <td>0</td>\n",
       "      <td>0</td>\n",
       "      <td>0</td>\n",
       "      <td>0</td>\n",
       "      <td>0</td>\n",
       "    </tr>\n",
       "    <tr>\n",
       "      <th>si:dkey-21h14.12</th>\n",
       "      <td>1</td>\n",
       "      <td>1</td>\n",
       "      <td>0</td>\n",
       "      <td>4</td>\n",
       "      <td>0</td>\n",
       "      <td>3</td>\n",
       "      <td>0</td>\n",
       "      <td>2</td>\n",
       "      <td>0</td>\n",
       "      <td>0</td>\n",
       "      <td>...</td>\n",
       "      <td>0</td>\n",
       "      <td>0</td>\n",
       "      <td>0</td>\n",
       "      <td>0</td>\n",
       "      <td>0</td>\n",
       "      <td>0</td>\n",
       "      <td>0</td>\n",
       "      <td>1</td>\n",
       "      <td>0</td>\n",
       "      <td>0</td>\n",
       "    </tr>\n",
       "    <tr>\n",
       "      <th>si:dkey-285e18.2</th>\n",
       "      <td>0</td>\n",
       "      <td>0</td>\n",
       "      <td>0</td>\n",
       "      <td>0</td>\n",
       "      <td>0</td>\n",
       "      <td>0</td>\n",
       "      <td>0</td>\n",
       "      <td>0</td>\n",
       "      <td>0</td>\n",
       "      <td>0</td>\n",
       "      <td>...</td>\n",
       "      <td>0</td>\n",
       "      <td>0</td>\n",
       "      <td>0</td>\n",
       "      <td>0</td>\n",
       "      <td>0</td>\n",
       "      <td>0</td>\n",
       "      <td>0</td>\n",
       "      <td>0</td>\n",
       "      <td>0</td>\n",
       "      <td>0</td>\n",
       "    </tr>\n",
       "  </tbody>\n",
       "</table>\n",
       "<p>5 rows × 61 columns</p>\n",
       "</div>"
      ],
      "text/plain": [
       "                  AB_1Dpci_21  AB_1Dpci_22  AB_1Dpci_23  AB_7Dpci_24  \\\n",
       "symbol                                                                 \n",
       "CR383668.1                  0            0            0            0   \n",
       "fgfr1op2                   39           49           22           21   \n",
       "AL845295.2                  0            0            0            0   \n",
       "si:dkey-21h14.12            1            1            0            4   \n",
       "si:dkey-285e18.2            0            0            0            0   \n",
       "\n",
       "                  AB_7Dpci_27  AB_7Dpci_5  AB_unop_4  AB_unop_6  AB_unop_7  \\\n",
       "symbol                                                                       \n",
       "CR383668.1                  0           0          0          0          0   \n",
       "fgfr1op2                   57          45         32         30         23   \n",
       "AL845295.2                  0           0          0          0          0   \n",
       "si:dkey-21h14.12            0           3          0          2          0   \n",
       "si:dkey-285e18.2            0           0          0          0          0   \n",
       "\n",
       "                  KCL_1Dpci_62  ...  TU_unop_3  WIK_1Dpci_55  WIK_1Dpci_56  \\\n",
       "symbol                          ...                                          \n",
       "CR383668.1                   0  ...          0             0             0   \n",
       "fgfr1op2                    28  ...         32            53            25   \n",
       "AL845295.2                   0  ...          0             0             0   \n",
       "si:dkey-21h14.12             0  ...          0             0             0   \n",
       "si:dkey-285e18.2             0  ...          0             0             0   \n",
       "\n",
       "                  WIK_1Dpci_57  WIK_7Dpci_58  WIK_7Dpci_60  WIK_7Dpci_61  \\\n",
       "symbol                                                                     \n",
       "CR383668.1                   0             0             0             0   \n",
       "fgfr1op2                    55            16            24            56   \n",
       "AL845295.2                   0             0             0             0   \n",
       "si:dkey-21h14.12             0             0             0             0   \n",
       "si:dkey-285e18.2             0             0             0             0   \n",
       "\n",
       "                  WIK_unop_1  WIK_unop_2  WIK_unop_3  \n",
       "symbol                                                \n",
       "CR383668.1                 0           0           0  \n",
       "fgfr1op2                  36          28          32  \n",
       "AL845295.2                 0           0           0  \n",
       "si:dkey-21h14.12           1           0           0  \n",
       "si:dkey-285e18.2           0           0           0  \n",
       "\n",
       "[5 rows x 61 columns]"
      ]
     },
     "execution_count": 10,
     "metadata": {},
     "output_type": "execute_result"
    }
   ],
   "source": [
    "expression_data.head()"
   ]
  },
  {
   "cell_type": "markdown",
   "id": "533b5e53-417e-41a8-9bc0-4963d326b06b",
   "metadata": {},
   "source": [
    "## Create a model wrapper"
   ]
  },
  {
   "cell_type": "code",
   "execution_count": null,
   "id": "cb73c7be-700e-4cf2-b530-81782288e198",
   "metadata": {
    "scrolled": true
   },
   "outputs": [],
   "source": [
    "model_wrapper = ReconstructionWrapper(model=model, ttg_ratio=9999,\n",
    "                                      gpr_gene_parse_function=replace_alt_transcripts,\n",
    "                                     )\n",
    "# ~1000 warnings (could not normalize 'rule')"
   ]
  },
  {
   "cell_type": "markdown",
   "id": "1f435230-3bf3-46e3-b8b1-0aab62fd48c1",
   "metadata": {},
   "source": [
    "## Map gene IDs in the data to model IDs"
   ]
  },
  {
   "cell_type": "code",
   "execution_count": 15,
   "id": "adbd1178-bdc4-43e5-abcd-85cc1e406c4c",
   "metadata": {},
   "outputs": [],
   "source": [
    "def score_apply(reaction_map_scores):\n",
    "    return {k:0  if v is None else v for k, v in reaction_map_scores.items()}"
   ]
  },
  {
   "cell_type": "code",
   "execution_count": 16,
   "id": "69b68e2e-5eb1-4948-a5e1-8c876cdc78a0",
   "metadata": {},
   "outputs": [],
   "source": [
    "omics_container = TabularReader(path_or_df=expression_data, nomenclature='external_gene_name',sample_in_rows=False,\n",
    "                                omics_type='transcriptomics').to_containers()"
   ]
  },
  {
   "cell_type": "code",
   "execution_count": 36,
   "id": "d7e06023-216d-455b-9da5-31eec5fd1363",
   "metadata": {},
   "outputs": [
    {
     "data": {
      "text/plain": [
       "'AB_1Dpci_21'"
      ]
     },
     "execution_count": 36,
     "metadata": {},
     "output_type": "execute_result"
    }
   ],
   "source": [
    "omics_container[0].get_Condition()"
   ]
  },
  {
   "cell_type": "markdown",
   "id": "32119fe1-c076-4685-a927-99bd580ffea2",
   "metadata": {},
   "source": [
    "## Enrichment run"
   ]
  },
  {
   "cell_type": "code",
   "execution_count": null,
   "id": "a159a0fb-697a-4b7d-a186-5eda1e7f0880",
   "metadata": {
    "scrolled": true
   },
   "outputs": [],
   "source": [
    "modelname = 'gimme_1000X'\n",
    "for x in range(len(omics_container)):\n",
    "\n",
    "    single_sample = omics_container[x]\n",
    "    \n",
    "    data_map = single_sample.get_integrated_data_map(model_reader=model_wrapper.model_reader,\n",
    "                                                     and_func=min, or_func=sum)\n",
    "    continuous_integration = ContinuousScoreIntegrationStrategy(score_apply=score_apply)\n",
    "    scores = continuous_integration.integrate(data_map=data_map)\n",
    "\n",
    "    sampname = single_sample.get_Condition()\n",
    "    scoredf = pd.DataFrame(scores.values(),index=scores.keys(),columns=[sampname])\n",
    "    scoredf.to_csv(f'Files/scores_each_sample/scores_{modelname}_{sampname}.csv')\n",
    "\n",
    "    if x==0:\n",
    "        scoredf0 = scoredf\n",
    "    else:\n",
    "        scoredf0 = pd.concat([scoredf0,scoredf],axis=1)"
   ]
  },
  {
   "cell_type": "code",
   "execution_count": 37,
   "id": "2b06d28c-cc0d-43a2-9784-7040a789dc4e",
   "metadata": {},
   "outputs": [
    {
     "data": {
      "text/html": [
       "<div>\n",
       "<style scoped>\n",
       "    .dataframe tbody tr th:only-of-type {\n",
       "        vertical-align: middle;\n",
       "    }\n",
       "\n",
       "    .dataframe tbody tr th {\n",
       "        vertical-align: top;\n",
       "    }\n",
       "\n",
       "    .dataframe thead th {\n",
       "        text-align: right;\n",
       "    }\n",
       "</style>\n",
       "<table border=\"1\" class=\"dataframe\">\n",
       "  <thead>\n",
       "    <tr style=\"text-align: right;\">\n",
       "      <th></th>\n",
       "      <th>AB_1Dpci_21</th>\n",
       "      <th>AB_1Dpci_22</th>\n",
       "      <th>AB_1Dpci_23</th>\n",
       "      <th>AB_7Dpci_24</th>\n",
       "      <th>AB_7Dpci_27</th>\n",
       "      <th>AB_7Dpci_5</th>\n",
       "      <th>AB_unop_4</th>\n",
       "      <th>AB_unop_6</th>\n",
       "      <th>AB_unop_7</th>\n",
       "      <th>KCL_1Dpci_62</th>\n",
       "      <th>...</th>\n",
       "      <th>TU_unop_3</th>\n",
       "      <th>WIK_1Dpci_55</th>\n",
       "      <th>WIK_1Dpci_56</th>\n",
       "      <th>WIK_1Dpci_57</th>\n",
       "      <th>WIK_7Dpci_58</th>\n",
       "      <th>WIK_7Dpci_60</th>\n",
       "      <th>WIK_7Dpci_61</th>\n",
       "      <th>WIK_unop_1</th>\n",
       "      <th>WIK_unop_2</th>\n",
       "      <th>WIK_unop_3</th>\n",
       "    </tr>\n",
       "  </thead>\n",
       "  <tbody>\n",
       "    <tr>\n",
       "      <th>MAR03905</th>\n",
       "      <td>105</td>\n",
       "      <td>99</td>\n",
       "      <td>98</td>\n",
       "      <td>99</td>\n",
       "      <td>153</td>\n",
       "      <td>153</td>\n",
       "      <td>126</td>\n",
       "      <td>129</td>\n",
       "      <td>151</td>\n",
       "      <td>66</td>\n",
       "      <td>...</td>\n",
       "      <td>212</td>\n",
       "      <td>187</td>\n",
       "      <td>118</td>\n",
       "      <td>85</td>\n",
       "      <td>116</td>\n",
       "      <td>190</td>\n",
       "      <td>165</td>\n",
       "      <td>84</td>\n",
       "      <td>148</td>\n",
       "      <td>74</td>\n",
       "    </tr>\n",
       "    <tr>\n",
       "      <th>MAR03907</th>\n",
       "      <td>42</td>\n",
       "      <td>21</td>\n",
       "      <td>38</td>\n",
       "      <td>11</td>\n",
       "      <td>4</td>\n",
       "      <td>25</td>\n",
       "      <td>8</td>\n",
       "      <td>9</td>\n",
       "      <td>15</td>\n",
       "      <td>30</td>\n",
       "      <td>...</td>\n",
       "      <td>19</td>\n",
       "      <td>64</td>\n",
       "      <td>20</td>\n",
       "      <td>39</td>\n",
       "      <td>18</td>\n",
       "      <td>23</td>\n",
       "      <td>5</td>\n",
       "      <td>11</td>\n",
       "      <td>25</td>\n",
       "      <td>15</td>\n",
       "    </tr>\n",
       "    <tr>\n",
       "      <th>MAR04097</th>\n",
       "      <td>95</td>\n",
       "      <td>78</td>\n",
       "      <td>125</td>\n",
       "      <td>35</td>\n",
       "      <td>37</td>\n",
       "      <td>55</td>\n",
       "      <td>46</td>\n",
       "      <td>42</td>\n",
       "      <td>49</td>\n",
       "      <td>49</td>\n",
       "      <td>...</td>\n",
       "      <td>93</td>\n",
       "      <td>73</td>\n",
       "      <td>73</td>\n",
       "      <td>88</td>\n",
       "      <td>52</td>\n",
       "      <td>47</td>\n",
       "      <td>68</td>\n",
       "      <td>46</td>\n",
       "      <td>52</td>\n",
       "      <td>35</td>\n",
       "    </tr>\n",
       "    <tr>\n",
       "      <th>MAR04099</th>\n",
       "      <td>30</td>\n",
       "      <td>55</td>\n",
       "      <td>48</td>\n",
       "      <td>47</td>\n",
       "      <td>17</td>\n",
       "      <td>53</td>\n",
       "      <td>63</td>\n",
       "      <td>39</td>\n",
       "      <td>56</td>\n",
       "      <td>8</td>\n",
       "      <td>...</td>\n",
       "      <td>35</td>\n",
       "      <td>47</td>\n",
       "      <td>10</td>\n",
       "      <td>21</td>\n",
       "      <td>21</td>\n",
       "      <td>17</td>\n",
       "      <td>23</td>\n",
       "      <td>18</td>\n",
       "      <td>23</td>\n",
       "      <td>9</td>\n",
       "    </tr>\n",
       "    <tr>\n",
       "      <th>MAR04108</th>\n",
       "      <td>95</td>\n",
       "      <td>78</td>\n",
       "      <td>125</td>\n",
       "      <td>35</td>\n",
       "      <td>37</td>\n",
       "      <td>55</td>\n",
       "      <td>46</td>\n",
       "      <td>42</td>\n",
       "      <td>49</td>\n",
       "      <td>49</td>\n",
       "      <td>...</td>\n",
       "      <td>93</td>\n",
       "      <td>73</td>\n",
       "      <td>73</td>\n",
       "      <td>88</td>\n",
       "      <td>52</td>\n",
       "      <td>47</td>\n",
       "      <td>68</td>\n",
       "      <td>46</td>\n",
       "      <td>52</td>\n",
       "      <td>35</td>\n",
       "    </tr>\n",
       "  </tbody>\n",
       "</table>\n",
       "<p>5 rows × 61 columns</p>\n",
       "</div>"
      ],
      "text/plain": [
       "          AB_1Dpci_21  AB_1Dpci_22  AB_1Dpci_23  AB_7Dpci_24  AB_7Dpci_27  \\\n",
       "MAR03905          105           99           98           99          153   \n",
       "MAR03907           42           21           38           11            4   \n",
       "MAR04097           95           78          125           35           37   \n",
       "MAR04099           30           55           48           47           17   \n",
       "MAR04108           95           78          125           35           37   \n",
       "\n",
       "          AB_7Dpci_5  AB_unop_4  AB_unop_6  AB_unop_7  KCL_1Dpci_62  ...  \\\n",
       "MAR03905         153        126        129        151            66  ...   \n",
       "MAR03907          25          8          9         15            30  ...   \n",
       "MAR04097          55         46         42         49            49  ...   \n",
       "MAR04099          53         63         39         56             8  ...   \n",
       "MAR04108          55         46         42         49            49  ...   \n",
       "\n",
       "          TU_unop_3  WIK_1Dpci_55  WIK_1Dpci_56  WIK_1Dpci_57  WIK_7Dpci_58  \\\n",
       "MAR03905        212           187           118            85           116   \n",
       "MAR03907         19            64            20            39            18   \n",
       "MAR04097         93            73            73            88            52   \n",
       "MAR04099         35            47            10            21            21   \n",
       "MAR04108         93            73            73            88            52   \n",
       "\n",
       "          WIK_7Dpci_60  WIK_7Dpci_61  WIK_unop_1  WIK_unop_2  WIK_unop_3  \n",
       "MAR03905           190           165          84         148          74  \n",
       "MAR03907            23             5          11          25          15  \n",
       "MAR04097            47            68          46          52          35  \n",
       "MAR04099            17            23          18          23           9  \n",
       "MAR04108            47            68          46          52          35  \n",
       "\n",
       "[5 rows x 61 columns]"
      ]
     },
     "execution_count": 37,
     "metadata": {},
     "output_type": "execute_result"
    }
   ],
   "source": [
    "scoredf0.head()"
   ]
  },
  {
   "cell_type": "code",
   "execution_count": 38,
   "id": "460b363d-cce2-4e38-809a-6243be07091d",
   "metadata": {},
   "outputs": [],
   "source": [
    "scoredf0.to_csv(f'Files/scores_{modelname}.csv')"
   ]
  }
 ],
 "metadata": {
  "kernelspec": {
   "display_name": "troppo",
   "language": "python",
   "name": "troppo"
  },
  "language_info": {
   "codemirror_mode": {
    "name": "ipython",
    "version": 3
   },
   "file_extension": ".py",
   "mimetype": "text/x-python",
   "name": "python",
   "nbconvert_exporter": "python",
   "pygments_lexer": "ipython3",
   "version": "3.10.16"
  }
 },
 "nbformat": 4,
 "nbformat_minor": 5
}
